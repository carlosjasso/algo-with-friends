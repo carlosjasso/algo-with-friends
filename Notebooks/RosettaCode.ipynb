{
 "cells": [
  {
   "cell_type": "markdown",
   "metadata": {},
   "source": [
    "# Rosetta Code Challenges\n",
    "\n",
    "> [challenges source](https://rosettacode.org/wiki/Rosetta_Code)\n",
    "\n"
   ]
  },
  {
   "cell_type": "markdown",
   "metadata": {},
   "source": [
    "## 100 doors\n",
    "\n",
    "There are 100 doors in a row that are all initially closed.  \n",
    "You make 100 passes by the doors.  \n",
    "The first time through, visit every door and toggle the door (if the door is closed, open it; if it is open, close it).  \n",
    "The second time, only visit every 2nd door (door #2, #4, #6, ...), and toggle it.  \n",
    "The third time, visit every 3rd door (door #3, #6, #9, ...), etc, until you only visit the 100th door.  \n",
    "\n",
    "_Task_: Implement logic to determine the state of the doors after the last pass. Return the final result in an array, with only the door number included in the array if it is open.\n",
    "\n",
    "> expected output: `[1, 4, 9, 16, 25, 36, 49, 64, 81, 100]`"
   ]
  },
  {
   "cell_type": "code",
   "execution_count": null,
   "metadata": {},
   "outputs": [],
   "source": [
    "# write your solution here"
   ]
  }
 ],
 "metadata": {
  "language_info": {
   "name": "python"
  }
 },
 "nbformat": 4,
 "nbformat_minor": 2
}
